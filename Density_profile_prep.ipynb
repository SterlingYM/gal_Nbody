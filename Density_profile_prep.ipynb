{
 "cells": [
  {
   "cell_type": "code",
   "execution_count": 1,
   "metadata": {},
   "outputs": [],
   "source": [
    "import numpy as np\n",
    "import matplotlib.pyplot as plt\n",
    "import pandas as pd\n",
    "import seaborn as sns\n",
    "sns.set_context('talk')\n",
    "plt.style.use('paper.mplstyle')\n",
    "\n",
    "from multiprocessing import Pool\n",
    "import time"
   ]
  },
  {
   "cell_type": "markdown",
   "metadata": {},
   "source": [
    "# (1) Galaxy Matter Density Profile\n",
    "\n",
    "Here, we prepare the galaxy mass density profile based on McMillan 2011 (https://doi.org/10.1111/j.1365-2966.2011.18564.x) as a function of coordinate $(R,z)$ (assuming cylindrical symmetry)."
   ]
  },
  {
   "cell_type": "markdown",
   "metadata": {
    "heading_collapsed": true
   },
   "source": [
    "## (1-1) Bulge\n",
    "\n",
    "$$\n",
    "\\rho_b(R,z) = \\frac{\\rho_{b,0}}{(1+r'/r_0)^\\alpha}\\exp[-(r'/r_\\text{cut})]\n",
    "$$\n",
    "where\n",
    "$$\n",
    "r' = \\sqrt{R^2 + (z/q)^2}\n",
    "$$\n",
    "with<br>\n",
    "$\\alpha=1.8$,<br>\n",
    "$r_0=0.075$kpc,<br>\n",
    "$r_\\text{cut}=2.1$kpc, and<br>\n",
    "$\\rho_{b,0}=9.93\\times10^{10} \\text{M}_\\odot\\text{kpc}^{-3}$"
   ]
  },
  {
   "cell_type": "code",
   "execution_count": 2,
   "metadata": {
    "hidden": true
   },
   "outputs": [],
   "source": [
    "def init_bulge():\n",
    "    global alpha, r0, r_cut, rho_b0, q\n",
    "    alpha = 1.8\n",
    "    r0 = 0.075\n",
    "    r_cut = 2.1\n",
    "    rho_b0 = 9.93e10 \n",
    "    q = 0.5\n",
    "    \n",
    "\n",
    "def rho_bulge(R,z):\n",
    "    global rho_b0, r0, alpha, r_cut, q\n",
    "    rp = np.sqrt(R**2+(z/q)**2)\n",
    "    return rho_b0/(1+rp/r0)**alpha * np.exp(-rp/r_cut)"
   ]
  },
  {
   "cell_type": "markdown",
   "metadata": {
    "heading_collapsed": true
   },
   "source": [
    "## (1-2) Disk\n",
    "\n",
    "$$\n",
    "\\rho_d(R,z) = \\frac{\\Sigma_{d,0}}{2z_d}\\exp\\left(-\\frac{|z|}{z_d} - \\frac{R}{R_d}\\right)\n",
    "$$\n",
    "\n",
    "for both 'thin' and 'thick' disks.\n",
    "Parameters:<br>\n",
    "$\\Sigma_{d,0,\\text{thin}} = 816.6 \\text{M}_\\odot\\text{pc}^{-2} = 8.16\\times10^{8} \\text{M}_\\odot\\text{kpc}^{-2}$,<br>\n",
    "$\\Sigma_{d,0,\\text{thick}} = 209.5 \\text{M}_\\odot\\text{pc}^{-2} = 2.10\\times10^{8} \\text{M}_\\odot\\text{kpc}^{-2}$,<br>\n",
    "$R_{d,\\text{thin}} = 2.90$ kpc,<br>\n",
    "$R_{d,\\text{thick}} = 3.31$ kpc,<br>\n",
    "$z_{d,\\text{thin}} = 0.3$ kpc,<br>\n",
    "$z_{d,\\text{thick}} = 0.9$ kpc,<br>\n"
   ]
  },
  {
   "cell_type": "code",
   "execution_count": 3,
   "metadata": {
    "hidden": true
   },
   "outputs": [],
   "source": [
    "def rho_disk(R,z,sig_d0,z_d,R_d):\n",
    "    return (sig_d0/(2*z_d))*np.exp(-(abs(z)/z_d)-(R/R_d))"
   ]
  },
  {
   "cell_type": "code",
   "execution_count": 4,
   "metadata": {
    "hidden": true
   },
   "outputs": [],
   "source": [
    "def init_disk():\n",
    "    global sig_d0_thin,z_d_thin,R_d_thin\n",
    "    global sig_d0_thick,z_d_thick,R_d_thick\n",
    "    sig_d0_thin = 8.16e8\n",
    "    sig_d0_thick = 2.10e8\n",
    "    R_d_thin = 2.90\n",
    "    R_d_thick = 3.31\n",
    "    z_d_thin = 0.3\n",
    "    z_d_thick = 0.9"
   ]
  },
  {
   "cell_type": "code",
   "execution_count": 5,
   "metadata": {
    "hidden": true
   },
   "outputs": [],
   "source": [
    "def rho_disk_total(R,z):\n",
    "    thin  = rho_disk(R,z,sig_d0_thin, z_d_thin, R_d_thin)\n",
    "    thick = rho_disk(R,z,sig_d0_thick,z_d_thick,R_d_thick)\n",
    "    return thin+thick"
   ]
  },
  {
   "cell_type": "code",
   "execution_count": null,
   "metadata": {
    "hidden": true
   },
   "outputs": [],
   "source": []
  },
  {
   "cell_type": "markdown",
   "metadata": {
    "heading_collapsed": true
   },
   "source": [
    "## (1-3) DM halo\n",
    "spherically symmetric NFW profile\n",
    "$$\n",
    "\\rho_h(r) = \\frac{\\rho_{h,0}}{\\frac{r}{r_h}\\left(1+\\frac{r}{r_h}\\right)^2}\n",
    "$$"
   ]
  },
  {
   "cell_type": "markdown",
   "metadata": {
    "hidden": true
   },
   "source": [
    "with<br>\n",
    "$\\rho_{h,0}=0.00846\\text{M}_\\odot\\text{pc}^{-3}=8.46\\times10^{6}\\text{M}_\\odot\\text{kpc}^{-3}$<br>\n",
    "$r_h = 20.2$ kpc"
   ]
  },
  {
   "cell_type": "code",
   "execution_count": 24,
   "metadata": {
    "hidden": true
   },
   "outputs": [],
   "source": [
    "def init_halo():\n",
    "    global rho_h0, r_h\n",
    "    rho_h0 = 8.46e6\n",
    "    r_h = 20.2\n",
    "\n",
    "def rho_halo(r):\n",
    "    global rho_h0, r_h\n",
    "    x = r/r_h\n",
    "    return rho_h0/(x*(1+x)**2)"
   ]
  },
  {
   "cell_type": "markdown",
   "metadata": {
    "heading_collapsed": true
   },
   "source": [
    "## (1-4) total mass density"
   ]
  },
  {
   "cell_type": "code",
   "execution_count": 7,
   "metadata": {
    "hidden": true
   },
   "outputs": [],
   "source": [
    "def initialize_params():\n",
    "    init_bulge()\n",
    "    init_disk()\n",
    "    init_halo()"
   ]
  },
  {
   "cell_type": "code",
   "execution_count": 8,
   "metadata": {
    "hidden": true
   },
   "outputs": [
    {
     "name": "stderr",
     "output_type": "stream",
     "text": [
      "/home/sterlingym/anaconda3/lib/python3.7/site-packages/ipykernel_launcher.py:9: RuntimeWarning: divide by zero encountered in true_divide\n",
      "  if __name__ == '__main__':\n"
     ]
    }
   ],
   "source": [
    "# at z=0:\n",
    "initialize_params()\n",
    "R = np.linspace(0,20,1000)\n",
    "bulge = rho_bulge(R,0)\n",
    "disk = rho_disk_total(R,0)\n",
    "halo = rho_halo(R)\n",
    "rho_total = bulge + disk + halo"
   ]
  },
  {
   "cell_type": "code",
   "execution_count": 9,
   "metadata": {
    "hidden": true
   },
   "outputs": [
    {
     "data": {
      "text/plain": [
       "Text(0, 0.5, 'mass density [$M_\\\\odot/kpc^3$]')"
      ]
     },
     "execution_count": 9,
     "metadata": {},
     "output_type": "execute_result"
    },
    {
     "data": {
      "image/png": "[encoded data removed]",
      "text/plain": [
       "<Figure size 576x432 with 1 Axes>"
      ]
     },
     "metadata": {
      "needs_background": "light"
     },
     "output_type": "display_data"
    }
   ],
   "source": [
    "plt.plot(R,bulge,label='bulge')\n",
    "plt.plot(R,disk,label='disk')\n",
    "plt.plot(R,halo,label='halo')\n",
    "plt.plot(R,rho_total,label='total')\n",
    "plt.legend()\n",
    "# plt.xscale('log')\n",
    "plt.yscale('log')\n",
    "plt.xlabel('Radial distance [kpc]')\n",
    "plt.ylabel(r'mass density [$M_\\odot/kpc^3$]')"
   ]
  },
  {
   "cell_type": "code",
   "execution_count": null,
   "metadata": {
    "hidden": true
   },
   "outputs": [],
   "source": []
  },
  {
   "cell_type": "markdown",
   "metadata": {},
   "source": [
    "# (2) calculate $M_\\text{in}(r)$: enclosed mass inside the sphere at radius r\n",
    "\n",
    "$M_\\text{in}(r)$ determines the force acting on objects at radius $r$:\n",
    "\n",
    "$$\n",
    "M_\\text{in}(r) = \\sum_i \\left[\\int_{-\\pi}^\\pi\\int_0^{2\\pi}\\int_0^r \\rho_i(r',\\theta,\\phi)r'^2\\sin\\theta\\mathrm dr' \\mathrm d\\theta \\mathrm d\\phi\\right]\n",
    "$$\n",
    "where $i$ is for bulge, thin disk, thick disk, and DM halo.\n",
    "\n",
    "Here, because we plan to simulate in 2D, we only care about the gravity acting on the plane.<br>\n",
    "If one plans to expand this to 3D, a more complicated and larger set of calculations needs to be done."
   ]
  },
  {
   "cell_type": "code",
   "execution_count": 25,
   "metadata": {},
   "outputs": [],
   "source": [
    "def calc_Mr_bulge(r):\n",
    "    # bulge: ring integration\n",
    "    R_list = np.linspace(1e-9,r,1000)\n",
    "    dR = R_list[1]-R_list[0]\n",
    "    mass = 0\n",
    "    for R in R_list:\n",
    "        if r==R:\n",
    "            continue\n",
    "        else:\n",
    "            zlim = np.sqrt(r**2-R**2)\n",
    "            z_list = np.linspace(-zlim,zlim,int(2*zlim/dR)+2)\n",
    "            dz = z_list[1]-z_list[0]\n",
    "            for z in z_list:\n",
    "                ring = rho_bulge(R,z)*2*np.pi*R*dR*dz\n",
    "                mass += ring\n",
    "    return mass\n",
    "\n",
    "def calc_Mr_disk(r):\n",
    "    # disk: ring integration\n",
    "    R_list = np.linspace(1e-9,r,1000)\n",
    "    dR = R_list[1]-R_list[0]\n",
    "    mass = 0\n",
    "    for R in R_list:\n",
    "        if r==R:\n",
    "            continue\n",
    "        else:\n",
    "            zlim = np.sqrt(r**2-R**2)\n",
    "            z_list = np.linspace(-zlim,zlim,int(2*zlim/dR)+2)\n",
    "            dz = z_list[1]-z_list[0]\n",
    "            for z in z_list:\n",
    "                ring = rho_disk_total(R,z)*2*np.pi*R*dR*dz\n",
    "                mass += ring\n",
    "    return mass\n",
    "\n",
    "def calc_Mr_halo(r):\n",
    "    # halo: spherical shell integration (much faster)\n",
    "    R_list = np.linspace(1e-9,r,1000)\n",
    "    dR = R_list[1]-R_list[0]\n",
    "    mass = 0\n",
    "    for R in R_list:\n",
    "        mass += 4*np.pi*R**2*rho_halo(R)*dR\n",
    "    return mass"
   ]
  },
  {
   "cell_type": "markdown",
   "metadata": {},
   "source": [
    "## (2-1) evaluation points & parameters\n",
    "\n",
    "```Rmax``` should be at least the size of the galaxy. Above this point the enclosed mass is fixed.<br>\n",
    "```R_list``` is the list of points at which M(r) is evaluated. The larger number of evaluation points we have, the better it is (but it takes time to compute this value)."
   ]
  },
  {
   "cell_type": "code",
   "execution_count": 11,
   "metadata": {},
   "outputs": [],
   "source": [
    "Rmax = 30 #kpc\n",
    "R_list = np.linspace(1e-6,Rmax,1000)"
   ]
  },
  {
   "cell_type": "code",
   "execution_count": 13,
   "metadata": {},
   "outputs": [],
   "source": [
    "np.save('data/R_list',R_list)"
   ]
  },
  {
   "cell_type": "markdown",
   "metadata": {},
   "source": [
    "## (2-2) Bulge"
   ]
  },
  {
   "cell_type": "code",
   "execution_count": 12,
   "metadata": {},
   "outputs": [
    {
     "name": "stdout",
     "output_type": "stream",
     "text": [
      "execution time: 2239.087 seconds\n"
     ]
    }
   ],
   "source": [
    "# calculate bulge\n",
    "start_time = time.time()\n",
    "pool = Pool()\n",
    "bulge_mass_list = pool.map(calc_Mr_bulge,R_list)\n",
    "pool.close()\n",
    "pool.join()\n",
    "print('execution time: {:.3f} seconds'.format(time.time()-start_time))"
   ]
  },
  {
   "cell_type": "code",
   "execution_count": 14,
   "metadata": {},
   "outputs": [],
   "source": [
    "np.save('data/bulge_mass_list',bulge_mass_list)"
   ]
  },
  {
   "cell_type": "markdown",
   "metadata": {},
   "source": [
    "## (2-3) Disk"
   ]
  },
  {
   "cell_type": "code",
   "execution_count": 15,
   "metadata": {},
   "outputs": [
    {
     "name": "stdout",
     "output_type": "stream",
     "text": [
      "execution time: 2166.596 seconds\n"
     ]
    }
   ],
   "source": [
    "# calculate disk\n",
    "start_time = time.time()\n",
    "pool = Pool()\n",
    "disk_mass_list = pool.map(calc_Mr_disk,R_list)\n",
    "pool.close()\n",
    "pool.join()\n",
    "print('execution time: {:.3f} seconds'.format(time.time()-start_time))"
   ]
  },
  {
   "cell_type": "code",
   "execution_count": 16,
   "metadata": {},
   "outputs": [],
   "source": [
    "np.save('data/disk_mass_list',disk_mass_list)"
   ]
  },
  {
   "cell_type": "markdown",
   "metadata": {},
   "source": [
    "## (2-4) DM Halo"
   ]
  },
  {
   "cell_type": "code",
   "execution_count": 26,
   "metadata": {},
   "outputs": [
    {
     "name": "stdout",
     "output_type": "stream",
     "text": [
      "execution time: 0.560 seconds\n"
     ]
    }
   ],
   "source": [
    "# calculate halo\n",
    "start_time = time.time()\n",
    "pool = Pool()\n",
    "halo_mass_list = pool.map(calc_Mr_halo,R_list)\n",
    "pool.close()\n",
    "pool.join()\n",
    "print('execution time: {:.3f} seconds'.format(time.time()-start_time))"
   ]
  },
  {
   "cell_type": "code",
   "execution_count": 27,
   "metadata": {},
   "outputs": [],
   "source": [
    "np.save('data/halo_mass_list',halo_mass_list)"
   ]
  },
  {
   "cell_type": "markdown",
   "metadata": {},
   "source": [
    "## (2-5) quick check\n",
    "\n",
    "We expect the bulge to dominate first, followed by the disk, and then DM halo."
   ]
  },
  {
   "cell_type": "code",
   "execution_count": 55,
   "metadata": {},
   "outputs": [
    {
     "data": {
      "image/png": "[encoded data removed]",
      "text/plain": [
       "<Figure size 576x432 with 1 Axes>"
      ]
     },
     "metadata": {
      "needs_background": "light"
     },
     "output_type": "display_data"
    }
   ],
   "source": [
    "plt.plot(R_list,bulge_mass_list,label='bulge')\n",
    "plt.plot(R_list,disk_mass_list,label='disk')\n",
    "plt.plot(R_list,halo_mass_list,label='halo')\n",
    "plt.legend()\n",
    "plt.xscale('log')\n",
    "plt.yscale('log')\n",
    "plt.xlim(1e-1,30)\n",
    "plt.ylim(1e6,1e12)\n",
    "plt.yticks([1e7,1e8,1e9,1e10,1e11,1e12]);"
   ]
  }
 ],
 "metadata": {
  "kernelspec": {
   "display_name": "Python 3",
   "language": "python",
   "name": "python3"
  },
  "language_info": {
   "codemirror_mode": {
    "name": "ipython",
    "version": 3
   },
   "file_extension": ".py",
   "mimetype": "text/x-python",
   "name": "python",
   "nbconvert_exporter": "python",
   "pygments_lexer": "ipython3",
   "version": "3.7.6"
  },
  "varInspector": {
   "cols": {
    "lenName": 16,
    "lenType": 16,
    "lenVar": 40
   },
   "kernels_config": {
    "python": {
     "delete_cmd_postfix": "",
     "delete_cmd_prefix": "del ",
     "library": "var_list.py",
     "varRefreshCmd": "print(var_dic_list())"
    },
    "r": {
     "delete_cmd_postfix": ") ",
     "delete_cmd_prefix": "rm(",
     "library": "var_list.r",
     "varRefreshCmd": "cat(var_dic_list()) "
    }
   },
   "types_to_exclude": [
    "module",
    "function",
    "builtin_function_or_method",
    "instance",
    "_Feature"
   ],
   "window_display": false
  }
 },
 "nbformat": 4,
 "nbformat_minor": 4
}
